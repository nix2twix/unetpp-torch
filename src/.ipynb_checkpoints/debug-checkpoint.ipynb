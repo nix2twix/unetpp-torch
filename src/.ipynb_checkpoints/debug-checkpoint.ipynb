{
 "cells": [
  {
   "cell_type": "code",
   "execution_count": 19,
   "id": "108b0e04",
   "metadata": {},
   "outputs": [
    {
     "name": "stdout",
     "output_type": "stream",
     "text": [
      "<class 'PIL.Image.Image'>\n",
      "[[ 10  50 200]\n",
      " [ 30 127 210]\n",
      " [ 80 190 255]]\n"
     ]
    }
   ],
   "source": [
    "from PIL import Image\n",
    "import numpy as np\n",
    "\n",
    "data = np.array([[10, 50, 200], [30, 127, 210], [80, 190, 255]], dtype=np.uint8)\n",
    "img_pil = Image.fromarray(data, mode='L')  \n",
    "\n",
    "print(type(img_pil))  # <class 'PIL.Image.Image'>\n",
    "print(np.array(img_pil))"
   ]
  },
  {
   "cell_type": "code",
   "execution_count": 29,
   "id": "76831bfb",
   "metadata": {},
   "outputs": [
    {
     "name": "stdout",
     "output_type": "stream",
     "text": [
      "До CLAHE:\n",
      " [[ 10  50 200]\n",
      " [ 30 127 210]\n",
      " [ 80 190 255]]\n",
      "После CLAHE:\n",
      " [[ 64 191 223]\n",
      " [128 255 255]\n",
      " [160 255 255]]\n"
     ]
    },
    {
     "data": {
      "image/jpeg": "[encoded data removed]",
      "image/png": "[encoded data removed]",
      "text/plain": [
       "<PIL.Image.Image image mode=L size=3x3>"
      ]
     },
     "execution_count": 29,
     "metadata": {},
     "output_type": "execute_result"
    }
   ],
   "source": [
    "import cv2\n",
    "\n",
    "def apply_clahe(img):\n",
    "    img_np = np.array(img)  # Конвертация в numpy (3x3)\n",
    "    print(\"До CLAHE:\\n\", img_np[:3, :3])  # Первые 3x3 пикселя\n",
    "    \n",
    "    clahe = cv2.createCLAHE(clipLimit=0.05, tileGridSize=(2, 2))\n",
    "    img_clahe = clahe.apply(img_np)\n",
    "    print(\"После CLAHE:\\n\", img_clahe[:3, :3])\n",
    "    \n",
    "    return Image.fromarray(img_clahe)\n",
    "\n",
    "apply_clahe(img_pil)"
   ]
  },
  {
   "cell_type": "code",
   "execution_count": 31,
   "id": "30671e48",
   "metadata": {},
   "outputs": [
    {
     "name": "stdout",
     "output_type": "stream",
     "text": [
      "Маска до бинаризации:\n",
      " [[  1   0   0]\n",
      " [255 255   0]\n",
      " [254 255   0]]\n",
      "Маска после бинаризации:\n",
      " [[0 0 0]\n",
      " [1 1 0]\n",
      " [1 1 0]]\n",
      "До:\n",
      " [[ 10  50 200]\n",
      " [ 30 127 210]\n",
      " [ 80 190 255]]\n",
      "После:\n",
      " [[-0.92156863 -0.60784314  0.56862745]\n",
      " [-0.76470588 -0.00392157  0.64705882]\n",
      " [-0.37254902  0.49019608  1.        ]]\n",
      "Восстановлено:\n",
      " [[ 10  50 200]\n",
      " [ 30 127 210]\n",
      " [ 80 190 255]]\n"
     ]
    }
   ],
   "source": [
    "mask = [[1, 0, 0],\n",
    " [255, 255, 0],\n",
    " [254, 255, 0]]\n",
    "\n",
    "mask = np.array(mask)  # Исходная маска (0 и 255)\n",
    "print(\"Маска до бинаризации:\\n\", mask[:3, :3])\n",
    "\n",
    "mask = (mask > 127).astype(np.uint8)  # Порог 127\n",
    "print(\"Маска после бинаризации:\\n\", mask[:3, :3])\n",
    "\n",
    "# Проверка нормализации\n",
    "normalized = (data - 127.5) / 127.5\n",
    "print(\"До:\\n\", data)\n",
    "print(\"После:\\n\", normalized)\n",
    "\n",
    "# Обратное преобразование\n",
    "restored = (normalized * 127.5 + 127.5).astype(np.uint8)\n",
    "print(\"Восстановлено:\\n\", restored)"
   ]
  }
 ],
 "metadata": {
  "kernelspec": {
   "display_name": "Python 3 (ipykernel)",
   "language": "python",
   "name": "python3"
  },
  "language_info": {
   "codemirror_mode": {
    "name": "ipython",
    "version": 3
   },
   "file_extension": ".py",
   "mimetype": "text/x-python",
   "name": "python",
   "nbconvert_exporter": "python",
   "pygments_lexer": "ipython3",
   "version": "3.8.10"
  }
 },
 "nbformat": 4,
 "nbformat_minor": 5
}
